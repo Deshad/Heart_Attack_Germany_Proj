{
 "cells": [
  {
   "cell_type": "code",
   "execution_count": 1,
   "metadata": {},
   "outputs": [],
   "source": [
    "import numpy as np # linear algebra\n",
    "import pandas as pd # data processing, CSV file I/O (e.g. pd.read_csv)\n",
    "import matplotlib.pyplot as plt\n",
    "import seaborn as sns\n",
    "from sklearn.model_selection import train_test_split, cross_val_score\n",
    "from sklearn.preprocessing import StandardScaler, LabelEncoder\n",
    "from sklearn.ensemble import RandomForestClassifier\n",
    "from sklearn.metrics import classification_report, confusion_matrix, roc_auc_score\n",
    "from sklearn.impute import SimpleImputer"
   ]
  },
  {
   "cell_type": "code",
   "execution_count": 3,
   "metadata": {},
   "outputs": [],
   "source": [
    "file_path = \"Heart Attack Germany.csv\"\n",
    "data = pd.read_csv(file_path)"
   ]
  },
  {
   "cell_type": "code",
   "execution_count": 4,
   "metadata": {},
   "outputs": [
    {
     "name": "stdout",
     "output_type": "stream",
     "text": [
      "First five rows of the dataset:\n",
      "          State Age_Group  Heart_Attack_Incidence  Year  Gender   BMI  \\\n",
      "0  Lower Saxony     Youth                       0  2018   Other  25.6   \n",
      "1        Saxony     Adult                       0  2021  Female  36.7   \n",
      "2         Hesse     Youth                       1  2022  Female  28.6   \n",
      "3  Lower Saxony     Adult                       0  2015    Male  27.6   \n",
      "4       Hamburg     Adult                       0  2015  Female  15.2   \n",
      "\n",
      "  Smoking_Status  Alcohol_Consumption Physical_Activity_Level Diet_Quality  \\\n",
      "0  Former Smoker                  4.2                Moderate      Average   \n",
      "1         Smoker                  2.4                     Low         Poor   \n",
      "2         Smoker                 29.5                    High         Poor   \n",
      "3     Non-Smoker                  4.2                Moderate         Poor   \n",
      "4         Smoker                  4.3                Moderate         Good   \n",
      "\n",
      "   ...  Cholesterol_Level  Diabetes  Urban_Rural  Socioeconomic_Status  \\\n",
      "0  ...              154.4         0        Rural                   Low   \n",
      "1  ...               75.0         1        Rural                   Low   \n",
      "2  ...              121.9         0        Urban                Middle   \n",
      "3  ...              152.3         0        Urban                   Low   \n",
      "4  ...              130.3         0        Urban                  High   \n",
      "\n",
      "  Air_Pollution_Index Stress_Level  Healthcare_Access Education_Level  \\\n",
      "0               31.58     Moderate           Moderate         Primary   \n",
      "1               46.22         High               Easy         Primary   \n",
      "2               15.69         High               Hard       Secondary   \n",
      "3               26.50         High               Hard        Tertiary   \n",
      "4               11.21         High           Moderate        Tertiary   \n",
      "\n",
      "  Employment_Status Region_Heart_Attack_Rate  \n",
      "0           Retired                     1.92  \n",
      "1        Unemployed                    14.16  \n",
      "2           Student                     3.49  \n",
      "3           Student                     3.24  \n",
      "4          Employed                     9.98  \n",
      "\n",
      "[5 rows x 22 columns]\n"
     ]
    }
   ],
   "source": [
    "print(\"First five rows of the dataset:\")\n",
    "print(data.head())"
   ]
  },
  {
   "cell_type": "code",
   "execution_count": 5,
   "metadata": {},
   "outputs": [
    {
     "name": "stdout",
     "output_type": "stream",
     "text": [
      "\n",
      "Dataset Info:\n",
      "<class 'pandas.core.frame.DataFrame'>\n",
      "RangeIndex: 275644 entries, 0 to 275643\n",
      "Data columns (total 22 columns):\n",
      " #   Column                    Non-Null Count   Dtype  \n",
      "---  ------                    --------------   -----  \n",
      " 0   State                     275644 non-null  object \n",
      " 1   Age_Group                 275644 non-null  object \n",
      " 2   Heart_Attack_Incidence    275644 non-null  int64  \n",
      " 3   Year                      275644 non-null  int64  \n",
      " 4   Gender                    275644 non-null  object \n",
      " 5   BMI                       275644 non-null  float64\n",
      " 6   Smoking_Status            275644 non-null  object \n",
      " 7   Alcohol_Consumption       275644 non-null  float64\n",
      " 8   Physical_Activity_Level   275644 non-null  object \n",
      " 9   Diet_Quality              275644 non-null  object \n",
      " 10  Family_History            275644 non-null  int64  \n",
      " 11  Hypertension              275644 non-null  int64  \n",
      " 12  Cholesterol_Level         275644 non-null  float64\n",
      " 13  Diabetes                  275644 non-null  int64  \n",
      " 14  Urban_Rural               275644 non-null  object \n",
      " 15  Socioeconomic_Status      275644 non-null  object \n",
      " 16  Air_Pollution_Index       275644 non-null  float64\n",
      " 17  Stress_Level              275644 non-null  object \n",
      " 18  Healthcare_Access         275644 non-null  object \n",
      " 19  Education_Level           275644 non-null  object \n",
      " 20  Employment_Status         275644 non-null  object \n",
      " 21  Region_Heart_Attack_Rate  275644 non-null  float64\n",
      "dtypes: float64(5), int64(5), object(12)\n",
      "memory usage: 46.3+ MB\n",
      "None\n"
     ]
    }
   ],
   "source": [
    "print(\"\\nDataset Info:\")\n",
    "print(data.info())"
   ]
  },
  {
   "cell_type": "code",
   "execution_count": 6,
   "metadata": {},
   "outputs": [
    {
     "name": "stdout",
     "output_type": "stream",
     "text": [
      "\n",
      "Summary Statistics:\n",
      "       Heart_Attack_Incidence           Year            BMI  \\\n",
      "count           275644.000000  275644.000000  275644.000000   \n",
      "mean                 0.150070    2018.997319      24.992669   \n",
      "std                  0.357141       2.582667       4.996535   \n",
      "min                  0.000000    2015.000000       1.400000   \n",
      "25%                  0.000000    2017.000000      21.600000   \n",
      "50%                  0.000000    2019.000000      25.000000   \n",
      "75%                  0.000000    2021.000000      28.400000   \n",
      "max                  1.000000    2023.000000      47.900000   \n",
      "\n",
      "       Alcohol_Consumption  Family_History   Hypertension  Cholesterol_Level  \\\n",
      "count        275644.000000   275644.000000  275644.000000      275644.000000   \n",
      "mean              4.985734        0.300540       0.400564         130.034229   \n",
      "std               5.001789        0.458494       0.490014          30.009242   \n",
      "min               0.000000        0.000000       0.000000          -7.900000   \n",
      "25%               1.400000        0.000000       0.000000         109.800000   \n",
      "50%               3.500000        0.000000       0.000000         130.100000   \n",
      "75%               6.900000        1.000000       1.000000         150.300000   \n",
      "max              70.000000        1.000000       1.000000         272.400000   \n",
      "\n",
      "            Diabetes  Air_Pollution_Index  Region_Heart_Attack_Rate  \n",
      "count  275644.000000        275644.000000             275644.000000  \n",
      "mean        0.199525            27.486225                 10.489019  \n",
      "std         0.399644            13.001527                  5.483277  \n",
      "min         0.000000             5.000000                  1.000000  \n",
      "25%         0.000000            16.220000                  5.750000  \n",
      "50%         0.000000            27.430000                 10.490000  \n",
      "75%         0.000000            38.780000                 15.240000  \n",
      "max         1.000000            50.000000                 20.000000  \n"
     ]
    }
   ],
   "source": [
    "print(\"\\nSummary Statistics:\")\n",
    "print(data.describe())"
   ]
  },
  {
   "cell_type": "code",
   "execution_count": 7,
   "metadata": {},
   "outputs": [
    {
     "name": "stdout",
     "output_type": "stream",
     "text": [
      "\n",
      "Missing Values:\n",
      "State                       0\n",
      "Age_Group                   0\n",
      "Heart_Attack_Incidence      0\n",
      "Year                        0\n",
      "Gender                      0\n",
      "BMI                         0\n",
      "Smoking_Status              0\n",
      "Alcohol_Consumption         0\n",
      "Physical_Activity_Level     0\n",
      "Diet_Quality                0\n",
      "Family_History              0\n",
      "Hypertension                0\n",
      "Cholesterol_Level           0\n",
      "Diabetes                    0\n",
      "Urban_Rural                 0\n",
      "Socioeconomic_Status        0\n",
      "Air_Pollution_Index         0\n",
      "Stress_Level                0\n",
      "Healthcare_Access           0\n",
      "Education_Level             0\n",
      "Employment_Status           0\n",
      "Region_Heart_Attack_Rate    0\n",
      "dtype: int64\n"
     ]
    }
   ],
   "source": [
    "print(\"\\nMissing Values:\")\n",
    "print(data.isnull().sum())"
   ]
  },
  {
   "cell_type": "code",
   "execution_count": 8,
   "metadata": {},
   "outputs": [
    {
     "name": "stderr",
     "output_type": "stream",
     "text": [
      "/opt/anaconda3/lib/python3.7/site-packages/sklearn/utils/extmath.py:765: RuntimeWarning: invalid value encountered in true_divide\n",
      "  updated_mean = (last_sum + new_sum) / updated_sample_count\n",
      "/opt/anaconda3/lib/python3.7/site-packages/sklearn/utils/extmath.py:706: RuntimeWarning: Degrees of freedom <= 0 for slice.\n",
      "  result = op(x, *args, **kwargs)\n"
     ]
    }
   ],
   "source": [
    "from sklearn.preprocessing import LabelEncoder, StandardScaler\n",
    "import pandas as pd\n",
    "\n",
    "# Encode categorical variables\n",
    "categorical_cols = [\n",
    "    'State', 'Age_Group', 'Gender', 'Smoking_Status', 'Urban_Rural', \n",
    "    'Diet_Quality', 'Physical_Activity_Level', 'Socioeconomic_Status', \n",
    "    'Employment_Status', 'Education_Level'\n",
    "]\n",
    "label_encoders = {col: LabelEncoder() for col in categorical_cols}\n",
    "\n",
    "for col in categorical_cols:\n",
    "    data[col] = label_encoders[col].fit_transform(data[col])\n",
    "\n",
    "# Scale numerical features\n",
    "numerical_cols = ['BMI', 'Cholesterol_Level', 'Air_Pollution_Index', 'Alcohol_Consumption', 'Stress_Level']\n",
    "\n",
    "# Replace non-numeric values with NaN\n",
    "for col in numerical_cols:\n",
    "    data[col] = pd.to_numeric(data[col], errors='coerce')\n",
    "\n",
    "# Handle missing values\n",
    "data[numerical_cols] = data[numerical_cols].fillna(data[numerical_cols].mean())\n",
    "\n",
    "# Scale the data\n",
    "scaler = StandardScaler()\n",
    "data[numerical_cols] = scaler.fit_transform(data[numerical_cols])\n",
    "\n",
    "# Define predictors and target\n",
    "X = data.drop(columns=['Heart_Attack_Incidence'])  # Features\n",
    "y = data['Heart_Attack_Incidence']  # Target"
   ]
  },
  {
   "cell_type": "code",
   "execution_count": 9,
   "metadata": {},
   "outputs": [],
   "source": [
    "# Split the dataset into training and testing sets\n",
    "X_train, X_test, y_train, y_test = train_test_split(X, y, test_size=0.2, random_state=42, stratify=y)"
   ]
  },
  {
   "cell_type": "code",
   "execution_count": 10,
   "metadata": {},
   "outputs": [
    {
     "name": "stdout",
     "output_type": "stream",
     "text": [
      "State                         int64\n",
      "Age_Group                     int64\n",
      "Year                          int64\n",
      "Gender                        int64\n",
      "BMI                         float64\n",
      "Smoking_Status                int64\n",
      "Alcohol_Consumption         float64\n",
      "Physical_Activity_Level       int64\n",
      "Diet_Quality                  int64\n",
      "Family_History                int64\n",
      "Hypertension                  int64\n",
      "Cholesterol_Level           float64\n",
      "Diabetes                      int64\n",
      "Urban_Rural                   int64\n",
      "Socioeconomic_Status          int64\n",
      "Air_Pollution_Index         float64\n",
      "Stress_Level                float64\n",
      "Healthcare_Access            object\n",
      "Education_Level               int64\n",
      "Employment_Status             int64\n",
      "Region_Heart_Attack_Rate    float64\n",
      "dtype: object\n",
      "Non-numeric columns: Index(['Healthcare_Access'], dtype='object')\n",
      "Unique values in Healthcare_Access: ['Hard' 'Moderate' 'Easy']\n",
      "y_train unique values: [0 1]\n"
     ]
    }
   ],
   "source": [
    "# Check non-numeric values in X_train\n",
    "print(X_train.dtypes)\n",
    "\n",
    "# Inspect non-numeric columns, if any\n",
    "non_numeric_columns = X_train.select_dtypes(include=['object', 'category']).columns\n",
    "print(\"Non-numeric columns:\", non_numeric_columns)\n",
    "\n",
    "# Check unique values in these columns\n",
    "for col in non_numeric_columns:\n",
    "    print(f\"Unique values in {col}:\", X_train[col].unique())\n",
    "\n",
    "# Check for non-numeric values in y_train\n",
    "print(\"y_train unique values:\", y_train.unique())"
   ]
  },
  {
   "cell_type": "code",
   "execution_count": 11,
   "metadata": {},
   "outputs": [
    {
     "name": "stdout",
     "output_type": "stream",
     "text": [
      "Model Accuracy: 0.85\n"
     ]
    }
   ],
   "source": [
    "# Identify numeric columns\n",
    "numeric_columns = data.select_dtypes(include=['number']).columns\n",
    "\n",
    "# Separate columns with all NaN values\n",
    "all_nan_columns = data[numeric_columns].columns[data[numeric_columns].isnull().all()]\n",
    "valid_numeric_columns = numeric_columns.difference(all_nan_columns)\n",
    "\n",
    "# Impute missing values for valid numeric columns\n",
    "imputer = SimpleImputer(strategy='mean')  # Impute missing values with column mean\n",
    "data_imputed_numeric = pd.DataFrame(\n",
    "    imputer.fit_transform(data[valid_numeric_columns]),\n",
    "    columns=valid_numeric_columns,  # Preserve column names\n",
    "    index=data.index                 # Preserve index\n",
    ")\n",
    "\n",
    "# Add back columns with all NaN values (if necessary, filled with a default value, e.g., 0)\n",
    "for col in all_nan_columns:\n",
    "    data_imputed_numeric[col] = 0  # Replace all NaN columns with a default value\n",
    "\n",
    "# Combine numeric and other columns\n",
    "data_imputed = data_imputed_numeric\n",
    "\n",
    "# Define predictors and target\n",
    "X = data_imputed.drop(columns=['Heart_Attack_Incidence'])  # Features\n",
    "y = data_imputed['Heart_Attack_Incidence']  # Target\n",
    "\n",
    "# Split data into training and testing sets\n",
    "X_train, X_test, y_train, y_test = train_test_split(X, y, test_size=0.2, random_state=42)\n",
    "\n",
    "# Train a Random Forest Classifier\n",
    "model = RandomForestClassifier(n_estimators=100, random_state=42, class_weight=\"balanced\")\n",
    "model.fit(X_train, y_train)\n",
    "\n",
    "# Evaluate the model\n",
    "accuracy = model.score(X_test, y_test)\n",
    "print(f\"Model Accuracy: {accuracy:.2f}\")"
   ]
  },
  {
   "cell_type": "code",
   "execution_count": 12,
   "metadata": {},
   "outputs": [
    {
     "name": "stdout",
     "output_type": "stream",
     "text": [
      "Classification Report:\n",
      "              precision    recall  f1-score   support\n",
      "\n",
      "         0.0       0.85      1.00      0.92     46815\n",
      "         1.0       0.00      0.00      0.00      8314\n",
      "\n",
      "    accuracy                           0.85     55129\n",
      "   macro avg       0.42      0.50      0.46     55129\n",
      "weighted avg       0.72      0.85      0.78     55129\n",
      "\n",
      "Confusion Matrix:\n"
     ]
    },
    {
     "name": "stderr",
     "output_type": "stream",
     "text": [
      "/opt/anaconda3/lib/python3.7/site-packages/sklearn/metrics/_classification.py:1272: UndefinedMetricWarning: Precision and F-score are ill-defined and being set to 0.0 in labels with no predicted samples. Use `zero_division` parameter to control this behavior.\n",
      "  _warn_prf(average, modifier, msg_start, len(result))\n"
     ]
    },
    {
     "data": {
      "image/png": "[encoded data removed]",
      "text/plain": [
       "<Figure size 432x288 with 2 Axes>"
      ]
     },
     "metadata": {
      "needs_background": "light"
     },
     "output_type": "display_data"
    },
    {
     "name": "stdout",
     "output_type": "stream",
     "text": [
      "ROC-AUC Score: 0.50\n"
     ]
    }
   ],
   "source": [
    "# Predict on test set\n",
    "y_pred = model.predict(X_test)\n",
    "y_proba = model.predict_proba(X_test)[:, 1]\n",
    "\n",
    "# Classification Report\n",
    "print(\"Classification Report:\")\n",
    "print(classification_report(y_test, y_pred))\n",
    "\n",
    "# Confusion Matrix\n",
    "print(\"Confusion Matrix:\")\n",
    "cm = confusion_matrix(y_test, y_pred)\n",
    "sns.heatmap(cm, annot=True, fmt='d', cmap='Blues', xticklabels=['No Heart Attack', 'Heart Attack'], \n",
    "            yticklabels=['No Heart Attack', 'Heart Attack'])\n",
    "plt.xlabel('Predicted')\n",
    "plt.ylabel('Actual')\n",
    "plt.title('Confusion Matrix')\n",
    "plt.show()\n",
    "\n",
    "# ROC-AUC Score\n",
    "roc_auc = roc_auc_score(y_test, y_proba)\n",
    "print(f\"ROC-AUC Score: {roc_auc:.2f}\")"
   ]
  },
  {
   "cell_type": "code",
   "execution_count": 13,
   "metadata": {},
   "outputs": [
    {
     "data": {
      "image/png": "[encoded data removed]",
      "text/plain": [
       "<Figure size 720x432 with 1 Axes>"
      ]
     },
     "metadata": {
      "needs_background": "light"
     },
     "output_type": "display_data"
    }
   ],
   "source": [
    "# Feature importance from Random Forest\n",
    "feature_importances = pd.DataFrame({'Feature': X.columns, 'Importance': model.feature_importances_})\n",
    "feature_importances = feature_importances.sort_values(by='Importance', ascending=False)\n",
    "\n",
    "# Plot feature importances\n",
    "plt.figure(figsize=(10, 6))\n",
    "sns.barplot(x='Importance', y='Feature', data=feature_importances)\n",
    "plt.title('Feature Importances')\n",
    "plt.show()"
   ]
  },
  {
   "cell_type": "code",
   "execution_count": null,
   "metadata": {},
   "outputs": [],
   "source": []
  }
 ],
 "metadata": {
  "kernelspec": {
   "display_name": "base",
   "language": "python",
   "name": "python3"
  },
  "language_info": {
   "codemirror_mode": {
    "name": "ipython",
    "version": 3
   },
   "file_extension": ".py",
   "mimetype": "text/x-python",
   "name": "python",
   "nbconvert_exporter": "python",
   "pygments_lexer": "ipython3",
   "version": "3.7.6"
  }
 },
 "nbformat": 4,
 "nbformat_minor": 2
}
